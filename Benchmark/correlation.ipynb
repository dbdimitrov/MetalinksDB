{
 "cells": [
  {
   "cell_type": "code",
   "execution_count": 7,
   "id": "2c713d33-6eb2-4ee6-8770-f3af8e10b849",
   "metadata": {},
   "outputs": [],
   "source": [
    "import pandas as pd\n",
    "import numpy as np\n",
    "from matplotlib import pyplot as plt\n",
    "import seaborn as sns\n",
    "import os"
   ]
  },
  {
   "cell_type": "code",
   "execution_count": 18,
   "id": "111d1674-26a4-4536-8fbd-e4987353dc36",
   "metadata": {},
   "outputs": [],
   "source": [
    "# Load annotation data\n",
    "#info = pd.read_table('global_ID_mapping.txt', dtype = 'str', index_col = 0)\n",
    "info = pd.read_csv('global_ID_mapping_NA.tsv', dtype = str, index_col = 0, sep = '\\t')\n",
    "scFEA_info = pd.read_csv('/Users/elias/MEBOCOST/data/scFEA/Human_M168_information.symbols.csv', index_col = 0)\n",
    "mebocost_info = pd.read_csv('/Users/elias/MEBOCOST/data/mebocost_db/common/metabolite_annotation_HMDB_summary.tsv', sep = '\\t', index_col = 1)\n",
    "\n",
    "# Load metabolomic dataset from cosmos https://github.com/saezlab/COSMOS_MSB/blob/main/data/metab_raw_metabolomic.csv and predictions from mebocost and scFEA\n",
    "metab_true = pd.read_csv('raw_metabolomic_vsn.csv', index_col = 0).sort_index() #metab_raw_metabolomic.csv\n",
    "scFEA_metab = pd.read_csv('balance_20221202-105743.csv', index_col = 0).T.sort_index()\n",
    "mebocost_pred = pd.read_csv('met_mat_default.csv', index_col = 0).sort_index()"
   ]
  },
  {
   "cell_type": "code",
   "execution_count": 19,
   "id": "9b8bb2a8-a9f3-44ed-8a27-68efeae82582",
   "metadata": {},
   "outputs": [],
   "source": [
    "# Order the column names that they are similar (yeah i know, very hard coded)\n",
    "metab_true2 = metab_true.iloc[:,[8,0,9, 1, 10, 2, 11, 3, 12, 4, 13, 5, 14, 6, 15, 7,]]\n",
    "scFEA2 = scFEA_metab.iloc[:,[0,1,2,3,4,5,6,7,8,9,12,13,18, 19, 20, 21]]\n",
    "scFEA2.columns = metab_true2.columns\n",
    "mebocost_pred = mebocost_pred.iloc[:,[0,1,2,3,4,5,6,7,8,9,12,13,18, 19, 20, 21]] \n",
    "mebocost_pred.columns = metab_true2.columns"
   ]
  },
  {
   "cell_type": "code",
   "execution_count": 20,
   "id": "d7ad210a-abf8-4f46-8b3d-83dcf41f029c",
   "metadata": {},
   "outputs": [],
   "source": [
    "# Convert indices to metabolite names and upper \n",
    "\n",
    "# Metabolomics dataset\n",
    "upper_names = [x.upper() for x in metab_true.index]\n",
    "metab_GT = metab_true2\n",
    "metab_GT.index = upper_names\n",
    "\n",
    "# Mebocost predictions\n",
    "mebocost_names = []\n",
    "for name in mebocost_pred.index:\n",
    "    if name in list(mebocost_info.iloc[:,0]):\n",
    "        metabolite_line = mebocost_info[mebocost_info.iloc[:,0] == name]\n",
    "        metabolite = metabolite_line.iloc[0,2]\n",
    "        mebocost_names.append(metabolite.upper())\n",
    "mebocost_pred.index = mebocost_names\n",
    "\n",
    "# scFEA predictions\n",
    "upper_names = [x.upper() for x in scFEA2.index]\n",
    "scFEA_pred = scFEA2\n",
    "scFEA_pred.index = upper_names\n",
    "\n",
    "# Upper annotation index\n",
    "info.index = [x.upper() for x in info.index]"
   ]
  },
  {
   "cell_type": "code",
   "execution_count": 21,
   "id": "1792ecf5-935e-4369-8969-a547413bb248",
   "metadata": {},
   "outputs": [],
   "source": [
    "def remove_unknown_metabs(matrix):\n",
    "    in_bool = [x in info.index for x in matrix.index]\n",
    "    elements_in = np.sum(in_bool)\n",
    "    elements_matrix = np.shape(matrix.index)[0]\n",
    "    matrix_in = matrix.iloc[in_bool, :]\n",
    "\n",
    "    print('List elements: ' + str(elements_matrix))\n",
    "    print('List elements in info: ' + str(elements_in))\n",
    "    print('Elements missing: ' + str(elements_matrix - elements_in))  \n",
    "\n",
    "    return(matrix_in)  "
   ]
  },
  {
   "cell_type": "code",
   "execution_count": 22,
   "id": "78a8fad0-ffe1-4004-9b73-955c8354ec40",
   "metadata": {
    "tags": []
   },
   "outputs": [
    {
     "name": "stdout",
     "output_type": "stream",
     "text": [
      "List elements: 107\n",
      "List elements in info: 95\n",
      "Elements missing: 12\n",
      "List elements: 550\n",
      "List elements in info: 314\n",
      "Elements missing: 236\n",
      "List elements: 70\n",
      "List elements in info: 54\n",
      "Elements missing: 16\n"
     ]
    }
   ],
   "source": [
    "# Remove unwanted columns from the matrices\n",
    "matrices = [metab_GT, mebocost_pred, scFEA_pred]\n",
    "matrices_clean = [remove_unknown_metabs(x) for x in matrices]        "
   ]
  },
  {
   "cell_type": "code",
   "execution_count": 23,
   "id": "8e06a61a-93d9-411a-9061-d02fe4c11310",
   "metadata": {},
   "outputs": [],
   "source": [
    "def get_correlation(GT_matrix = matrices_clean[0], pred_matrix = matrices_clean[1]):\n",
    "    intersection1 = [x in GT_matrix.index for x in pred_matrix.index]\n",
    "    intersection2 = [x in pred_matrix.index for x in GT_matrix.index]\n",
    "    num_intersection = np.sum(intersection1)\n",
    "    GT_subs = GT_matrix.iloc[intersection2, :].fillna(0).sort_index()\n",
    "    pred_subs = pred_matrix.iloc[intersection1, :].fillna(0).sort_index()\n",
    "    \n",
    "    corr = GT_subs.corrwith(pred_subs, axis = 1)\n",
    "    \n",
    "    print('Intersection elements: ' + str(num_intersection))\n",
    "    print(corr)\n",
    "    \n",
    "    return(corr)"
   ]
  },
  {
   "cell_type": "code",
   "execution_count": 24,
   "id": "b1410183-4ff7-4e16-95cc-21e06e84c0ca",
   "metadata": {},
   "outputs": [
    {
     "name": "stdout",
     "output_type": "stream",
     "text": [
      "Intersection elements: 34\n",
      "ADENINE                 0.073658\n",
      "ADENOSINE              -0.018241\n",
      "ADP                    -0.137138\n",
      "ASCORBIC ACID           0.027961\n",
      "CARBAMOYL PHOSPHATE    -0.261454\n",
      "CDP                     0.237076\n",
      "CHOLINE                 0.275558\n",
      "CITRULLINE              0.664440\n",
      "CREATINE               -0.065076\n",
      "CYTIDINE                0.493850\n",
      "ETHANOLAMINE           -0.583645\n",
      "FRUCTOSE 6-PHOSPHATE    0.158028\n",
      "GLUCOSE 6-PHOSPHATE    -0.043867\n",
      "GLYCEROL               -0.631449\n",
      "GLYCINE                 0.018978\n",
      "GUANINE                 0.797002\n",
      "GUANOSINE               0.150410\n",
      "HYPOTAURINE             0.053874\n",
      "HYPOXANTHINE            0.438593\n",
      "INOSINE                -0.272045\n",
      "LINOLEIC ACID           0.196540\n",
      "MYRISTIC ACID          -0.202279\n",
      "NAD                    -0.571293\n",
      "OLEIC ACID             -0.503055\n",
      "ORNITHINE               0.248188\n",
      "PALMITIC ACID          -0.203989\n",
      "PALMITOYLCARNITINE      0.306165\n",
      "QUINOLINIC ACID         0.110614\n",
      "RIBOFLAVIN              0.870272\n",
      "SORBITOL               -0.242168\n",
      "STEARIC ACID           -0.162358\n",
      "TAURINE                -0.075734\n",
      "UREA                   -0.374611\n",
      "URIDINE                -0.665196\n",
      "dtype: float64\n",
      "Intersection elements: 32\n",
      "AMP                 -0.309630\n",
      "ARGININE            -0.536579\n",
      "ARGININOSUCCINATE   -0.239293\n",
      "ASPARTATE            0.606561\n",
      "CDP                 -0.254134\n",
      "CHOLINE              0.407743\n",
      "CITRATE              0.365384\n",
      "CITRULLINE           0.314231\n",
      "FUMARATE             0.541216\n",
      "GABA                 0.224127\n",
      "GLUCOSE              0.149322\n",
      "GLUTAMATE           -0.208744\n",
      "GLUTAMINE            0.296551\n",
      "GLYCINE              0.072755\n",
      "GMP                  0.260574\n",
      "HISTIDINE           -0.112331\n",
      "HYPOXANTHINE        -0.032817\n",
      "ISOLEUCINE           0.526956\n",
      "LACTATE              0.130909\n",
      "LEUCINE              0.071480\n",
      "LYSINE               0.275958\n",
      "MALATE              -0.290279\n",
      "METHIONINE           0.293489\n",
      "ORNITHINE           -0.112375\n",
      "PHENYLALANINE       -0.078625\n",
      "PROLINE              0.085996\n",
      "PYRUVATE             0.221138\n",
      "SERINE              -0.311386\n",
      "SUCCINATE           -0.074278\n",
      "THREONINE           -0.232723\n",
      "TYROSINE             0.109809\n",
      "UMP                 -0.043417\n",
      "dtype: float64\n"
     ]
    }
   ],
   "source": [
    "mebocost = get_correlation(matrices[0], matrices[1])\n",
    "scFEA = get_correlation(matrices[0], matrices[2])"
   ]
  },
  {
   "cell_type": "code",
   "execution_count": 25,
   "id": "26f0b5e5-34e3-4837-9543-2f1951e372b0",
   "metadata": {},
   "outputs": [
    {
     "data": {
      "text/plain": [
       "<AxesSubplot: >"
      ]
     },
     "execution_count": 25,
     "metadata": {},
     "output_type": "execute_result"
    },
    {
     "data": {
      "image/png": "[encoded data removed]",
      "text/plain": [
       "<Figure size 640x480 with 1 Axes>"
      ]
     },
     "metadata": {},
     "output_type": "display_data"
    }
   ],
   "source": [
    "df = pd.Series(mebocost, name=\"mebocost\").to_frame().join(pd.Series(scFEA, name=\"scFEA\"))\n",
    "sns.boxplot(data=df, width = 0.4) "
   ]
  }
 ],
 "metadata": {
  "kernelspec": {
   "display_name": "Python 3 (ipykernel)",
   "language": "python",
   "name": "python3"
  },
  "language_info": {
   "codemirror_mode": {
    "name": "ipython",
    "version": 3
   },
   "file_extension": ".py",
   "mimetype": "text/x-python",
   "name": "python",
   "nbconvert_exporter": "python",
   "pygments_lexer": "ipython3",
   "version": "3.10.8"
  }
 },
 "nbformat": 4,
 "nbformat_minor": 5
}
